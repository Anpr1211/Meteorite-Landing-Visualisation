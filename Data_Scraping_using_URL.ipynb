{
  "nbformat": 4,
  "nbformat_minor": 0,
  "metadata": {
    "colab": {
      "name": "Data Scraping using URL.ipynb",
      "provenance": [],
      "authorship_tag": "ABX9TyNKUVU2AojgIQhTN30hPtKI",
      "include_colab_link": true
    },
    "kernelspec": {
      "name": "python3",
      "display_name": "Python 3"
    }
  },
  "cells": [
    {
      "cell_type": "markdown",
      "metadata": {
        "id": "view-in-github",
        "colab_type": "text"
      },
      "source": [
        "<a href=\"https://colab.research.google.com/github/Anpr1211/R-and-Python-Gigs/blob/master/Data_Scraping_using_URL.ipynb\" target=\"_parent\"><img src=\"https://colab.research.google.com/assets/colab-badge.svg\" alt=\"Open In Colab\"/></a>"
      ]
    },
    {
      "cell_type": "code",
      "metadata": {
        "id": "YDnblE81eXVe",
        "colab_type": "code",
        "colab": {}
      },
      "source": [
        "# importing libraries\n",
        "\n",
        "import requests as req\n",
        "from bs4 import BeautifulSoup\n",
        "\n",
        "import pandas as pd"
      ],
      "execution_count": 0,
      "outputs": []
    },
    {
      "cell_type": "markdown",
      "metadata": {
        "id": "Ctgej7DtSRDO",
        "colab_type": "text"
      },
      "source": [
        "Requests allows you to send HTTP/1.1 requests extremely easily.\n",
        "\n",
        "Beautiful Soup is a library that makes it easy to scrape information from web pages. It sits atop an HTML or XML parser, providing Pythonic idioms for iterating, searching, and modifying the parse tree."
      ]
    },
    {
      "cell_type": "code",
      "metadata": {
        "id": "46pDdsVneePh",
        "colab_type": "code",
        "colab": {}
      },
      "source": [
        "url = \"https://news.google.com/covid19/map?hl=en-IN&gl=IN&ceid=IN:en\""
      ],
      "execution_count": 0,
      "outputs": []
    },
    {
      "cell_type": "markdown",
      "metadata": {
        "id": "vH_QEo94S8ff",
        "colab_type": "text"
      },
      "source": [
        "req.get(url) will ping a website and return you HTML of the website."
      ]
    },
    {
      "cell_type": "code",
      "metadata": {
        "id": "g33nHzzqe5JP",
        "colab_type": "code",
        "colab": {}
      },
      "source": [
        "r = req.get(url)\n"
      ],
      "execution_count": 0,
      "outputs": []
    },
    {
      "cell_type": "markdown",
      "metadata": {
        "id": "2r7CUQY5TExp",
        "colab_type": "text"
      },
      "source": [
        "Prettify() function in BeautifulSoup will enable us to view how the tags are nested in the document."
      ]
    },
    {
      "cell_type": "code",
      "metadata": {
        "id": "N5eUx-DofB-I",
        "colab_type": "code",
        "colab": {}
      },
      "source": [
        "soup = BeautifulSoup(r.text, 'html.parser')\n",
        "print(soup.prettify())"
      ],
      "execution_count": 0,
      "outputs": []
    },
    {
      "cell_type": "code",
      "metadata": {
        "id": "NCXXOpGrfIZx",
        "colab_type": "code",
        "colab": {}
      },
      "source": [
        "data = soup.find_all('td')\n",
        "data"
      ],
      "execution_count": 0,
      "outputs": []
    },
    {
      "cell_type": "code",
      "metadata": {
        "id": "-_ypSo6Khb5Z",
        "colab_type": "code",
        "outputId": "66eaa264-6214-46e4-8a34-bdcc6eba92e9",
        "colab": {
          "base_uri": "https://localhost:8080/",
          "height": 34
        }
      },
      "source": [
        "len(data)"
      ],
      "execution_count": 0,
      "outputs": [
        {
          "output_type": "execute_result",
          "data": {
            "text/plain": [
              "205"
            ]
          },
          "metadata": {
            "tags": []
          },
          "execution_count": 38
        }
      ]
    },
    {
      "cell_type": "code",
      "metadata": {
        "id": "jzgKvv7hhqWS",
        "colab_type": "code",
        "colab": {}
      },
      "source": [
        "for i in data:\n",
        "  print(i.text)"
      ],
      "execution_count": 0,
      "outputs": []
    },
    {
      "cell_type": "markdown",
      "metadata": {
        "id": "TcKphjT4TOBc",
        "colab_type": "text"
      },
      "source": [
        "Now that we have the data, we need to build a dataframe."
      ]
    },
    {
      "cell_type": "code",
      "metadata": {
        "id": "LnU3jFqNiKzI",
        "colab_type": "code",
        "colab": {}
      },
      "source": [
        "df = pd.DataFrame(columns=['Location', 'Confirmed', 'Cases per 1 million', 'Recovered', 'Deaths'])"
      ],
      "execution_count": 0,
      "outputs": []
    },
    {
      "cell_type": "code",
      "metadata": {
        "id": "idlMEqOpirW0",
        "colab_type": "code",
        "outputId": "db6d6155-5c28-4b29-abb6-216ff711591a",
        "colab": {
          "base_uri": "https://localhost:8080/",
          "height": 49
        }
      },
      "source": [
        "df"
      ],
      "execution_count": 0,
      "outputs": [
        {
          "output_type": "execute_result",
          "data": {
            "text/html": [
              "<div>\n",
              "<style scoped>\n",
              "    .dataframe tbody tr th:only-of-type {\n",
              "        vertical-align: middle;\n",
              "    }\n",
              "\n",
              "    .dataframe tbody tr th {\n",
              "        vertical-align: top;\n",
              "    }\n",
              "\n",
              "    .dataframe thead th {\n",
              "        text-align: right;\n",
              "    }\n",
              "</style>\n",
              "<table border=\"1\" class=\"dataframe\">\n",
              "  <thead>\n",
              "    <tr style=\"text-align: right;\">\n",
              "      <th></th>\n",
              "      <th>Location</th>\n",
              "      <th>Confirmed</th>\n",
              "      <th>Cases per 1 million</th>\n",
              "      <th>Recovered</th>\n",
              "      <th>Deaths</th>\n",
              "    </tr>\n",
              "  </thead>\n",
              "  <tbody>\n",
              "  </tbody>\n",
              "</table>\n",
              "</div>"
            ],
            "text/plain": [
              "Empty DataFrame\n",
              "Columns: [Location, Confirmed, Cases per 1 million, Recovered, Deaths]\n",
              "Index: []"
            ]
          },
          "metadata": {
            "tags": []
          },
          "execution_count": 27
        }
      ]
    },
    {
      "cell_type": "code",
      "metadata": {
        "id": "HS4GrcVnkXOF",
        "colab_type": "code",
        "outputId": "d7c27410-f67f-4be6-db01-656e1e021e86",
        "colab": {
          "base_uri": "https://localhost:8080/",
          "height": 34
        }
      },
      "source": [
        "df.columns"
      ],
      "execution_count": 0,
      "outputs": [
        {
          "output_type": "execute_result",
          "data": {
            "text/plain": [
              "Index(['Location', 'Confirmed', 'Cases per 1 million', 'Recovered', 'Deaths'], dtype='object')"
            ]
          },
          "metadata": {
            "tags": []
          },
          "execution_count": 41
        }
      ]
    },
    {
      "cell_type": "code",
      "metadata": {
        "id": "gkXkGoF1kOGr",
        "colab_type": "code",
        "colab": {}
      },
      "source": [
        "for i in range(0, len(data), 5):\n",
        "\n",
        "  d_ = {'Location':data[i].text,\n",
        "        'Confirmed':data[i+1].text,\n",
        "        'Cases per 1 million':data[i+2].text,\n",
        "        'Recovered':data[i+3].text,\n",
        "        'Deaths':data[i+4].text}\n",
        "\n",
        "  df = df.append(d_, ignore_index=True)\n"
      ],
      "execution_count": 0,
      "outputs": []
    },
    {
      "cell_type": "code",
      "metadata": {
        "id": "O98WHwyXi7Sv",
        "colab_type": "code",
        "colab": {}
      },
      "source": [
        "df.head()"
      ],
      "execution_count": 0,
      "outputs": []
    },
    {
      "cell_type": "code",
      "metadata": {
        "id": "zqf69u1QTbn3",
        "colab_type": "code",
        "colab": {}
      },
      "source": [
        "# saving the dataset\n",
        "\n",
        "df.to_csv(\"Data.csv\")"
      ],
      "execution_count": 0,
      "outputs": []
    }
  ]
}