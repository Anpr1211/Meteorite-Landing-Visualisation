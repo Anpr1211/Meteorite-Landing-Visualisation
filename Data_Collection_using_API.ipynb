{
  "nbformat": 4,
  "nbformat_minor": 0,
  "metadata": {
    "colab": {
      "name": "Data Collection using API.ipynb",
      "provenance": [],
      "include_colab_link": true
    },
    "kernelspec": {
      "name": "python3",
      "display_name": "Python 3"
    }
  },
  "cells": [
    {
      "cell_type": "markdown",
      "metadata": {
        "id": "view-in-github",
        "colab_type": "text"
      },
      "source": [
        "<a href=\"https://colab.research.google.com/github/Anpr1211/R-and-Python-Gigs/blob/master/Data_Collection_using_API.ipynb\" target=\"_parent\"><img src=\"https://colab.research.google.com/assets/colab-badge.svg\" alt=\"Open In Colab\"/></a>"
      ]
    },
    {
      "cell_type": "markdown",
      "metadata": {
        "id": "capv39efYSI_",
        "colab_type": "text"
      },
      "source": [
        "In this project, the data for temperature of Kolkata for the last few years has been collected using the [METEOSTAT](https://meteostat.net/en) api. \n",
        "\n"
      ]
    },
    {
      "cell_type": "code",
      "metadata": {
        "id": "SCBuGM8Wybgl",
        "colab_type": "code",
        "colab": {}
      },
      "source": [
        "# import all the packages\n",
        "\n",
        "import requests as req\n",
        "import pandas as pd\n",
        "import json\n",
        "import matplotlib.pyplot as plt\n",
        "import matplotlib.dates as mdates"
      ],
      "execution_count": 0,
      "outputs": []
    },
    {
      "cell_type": "markdown",
      "metadata": {
        "id": "sByGBfFUZqwY",
        "colab_type": "text"
      },
      "source": [
        "The temperature data is on daily basis, from 1st January 2016 to 31st September, 2019. \n",
        "\n",
        "This is the time period for which there were no missing data points."
      ]
    },
    {
      "cell_type": "code",
      "metadata": {
        "id": "btRs25aiy_8b",
        "colab_type": "code",
        "colab": {}
      },
      "source": [
        "# function get_url() to return url of the site to be accessed with the station id\n",
        "\n",
        "def get_url(id):\n",
        "\n",
        "  start_date = '2016-01-01'\n",
        "  end_date = '2019-09-31'\n",
        "  url = 'https://api.meteostat.net/v1/history/daily?station=' + str(id) + '&start=' + start_date + '&end=' + end_date + '&key=9Qf3Jufc'\n",
        "  print(url)\n",
        "\n",
        "  return(url)"
      ],
      "execution_count": 0,
      "outputs": []
    },
    {
      "cell_type": "code",
      "metadata": {
        "id": "-dZq_3z0yjsM",
        "colab_type": "code",
        "colab": {}
      },
      "source": [
        "# function get_data() to return the data from the website\n",
        "\n",
        "def get_data(id):\n",
        "\n",
        "  url = get_url(id)\n",
        "  r = req.get(url)\n",
        "  d = r.json()\n",
        "\n",
        "  return d"
      ],
      "execution_count": 0,
      "outputs": []
    },
    {
      "cell_type": "code",
      "metadata": {
        "id": "ErgoHs7j3FFK",
        "colab_type": "code",
        "colab": {}
      },
      "source": [
        "# function get_ind_list() to return a list of dictionaries {'data' : date_value, 'temperature' : value} for each station id\n",
        "\n",
        "def get_ind_list(data):\n",
        "\n",
        "  l = []\n",
        "\n",
        "  for i in range(len(data['data'])):\n",
        "      \n",
        "      d_ = {}\n",
        "\n",
        "      tmp = {'date' : data['data'][i]['date'], 'temperature' : data['data'][i]['temperature']}\n",
        "      d_.update(tmp)\n",
        "\n",
        "      l.append(d_)\n",
        "\n",
        "  return(l)"
      ],
      "execution_count": 0,
      "outputs": []
    },
    {
      "cell_type": "markdown",
      "metadata": {
        "id": "hu2KJsBuaTf6",
        "colab_type": "text"
      },
      "source": [
        "The area of focus of this project is Kolkata.\n",
        "\n",
        "As per the website there are 4 weather stations present in Kolkata. Since the other 2 have missing data values, only Dum Dum and Alipore are considered here. "
      ]
    },
    {
      "cell_type": "code",
      "metadata": {
        "id": "nGNvixnT7ps9",
        "colab_type": "code",
        "colab": {}
      },
      "source": [
        "# station id of Dum Dum and Alipore in Kolkata\n",
        "\n",
        "index = [42809, 42807]\n",
        "station = ['Dum Dum', 'Alipore']"
      ],
      "execution_count": 0,
      "outputs": []
    },
    {
      "cell_type": "code",
      "metadata": {
        "id": "HZJxme5I8azM",
        "colab_type": "code",
        "colab": {}
      },
      "source": [
        "# final_list to store list of dictionaries of data for each station\n",
        "\n",
        "final_list = []"
      ],
      "execution_count": 0,
      "outputs": []
    },
    {
      "cell_type": "code",
      "metadata": {
        "id": "yF4Ki25i0buk",
        "colab_type": "code",
        "outputId": "ee073f91-aab1-46a9-b5a7-4908f6b48ac3",
        "colab": {
          "base_uri": "https://localhost:8080/",
          "height": 52
        }
      },
      "source": [
        "# collecting data from the website\n",
        "\n",
        "for i in range(len(index)):\n",
        "\n",
        "  data = get_data(index[i])\n",
        "\n",
        "  l = get_ind_list(data)\n",
        "\n",
        "  final_list.append(l)"
      ],
      "execution_count": 0,
      "outputs": [
        {
          "output_type": "stream",
          "text": [
            "https://api.meteostat.net/v1/history/daily?station=42809&start=2016-01-01&end=2019-09-31&key=9Qf3Jufc\n",
            "https://api.meteostat.net/v1/history/daily?station=42807&start=2016-01-01&end=2019-09-31&key=9Qf3Jufc\n"
          ],
          "name": "stdout"
        }
      ]
    },
    {
      "cell_type": "code",
      "metadata": {
        "id": "JydCFdkK9H_e",
        "colab_type": "code",
        "outputId": "b733dbfd-227b-4d58-b77f-ef2b01ab6b92",
        "colab": {
          "base_uri": "https://localhost:8080/",
          "height": 34
        }
      },
      "source": [
        "len(final_list)"
      ],
      "execution_count": 0,
      "outputs": [
        {
          "output_type": "execute_result",
          "data": {
            "text/plain": [
              "2"
            ]
          },
          "metadata": {
            "tags": []
          },
          "execution_count": 81
        }
      ]
    },
    {
      "cell_type": "markdown",
      "metadata": {
        "id": "uiF2A_u2au-A",
        "colab_type": "text"
      },
      "source": [
        "The data seems to be correct as the average temperature of Kolkata in the month of January is around 19° C."
      ]
    },
    {
      "cell_type": "code",
      "metadata": {
        "id": "DZ8T12PX9NGD",
        "colab_type": "code",
        "outputId": "b8865eb4-8418-497f-8b69-34fdd376a26e",
        "colab": {
          "base_uri": "https://localhost:8080/",
          "height": 104
        }
      },
      "source": [
        "# temperature data of Dum Dum weather station\n",
        "\n",
        "final_list[0][0:5]"
      ],
      "execution_count": 0,
      "outputs": [
        {
          "output_type": "execute_result",
          "data": {
            "text/plain": [
              "[{'date': '2016-01-01', 'temperature': 19.3},\n",
              " {'date': '2016-01-02', 'temperature': 19.7},\n",
              " {'date': '2016-01-03', 'temperature': 19.7},\n",
              " {'date': '2016-01-04', 'temperature': 19.3},\n",
              " {'date': '2016-01-05', 'temperature': 18.9}]"
            ]
          },
          "metadata": {
            "tags": []
          },
          "execution_count": 82
        }
      ]
    },
    {
      "cell_type": "code",
      "metadata": {
        "id": "vJKoinR39Vqg",
        "colab_type": "code",
        "outputId": "ce9cc80e-27d8-40e6-ada1-675c4659c48e",
        "colab": {
          "base_uri": "https://localhost:8080/",
          "height": 104
        }
      },
      "source": [
        "# temperature data of Alipore weather station\n",
        "\n",
        "final_list[1][0:5]"
      ],
      "execution_count": 0,
      "outputs": [
        {
          "output_type": "execute_result",
          "data": {
            "text/plain": [
              "[{'date': '2016-01-01', 'temperature': 19.8},\n",
              " {'date': '2016-01-02', 'temperature': 20.2},\n",
              " {'date': '2016-01-03', 'temperature': 20.2},\n",
              " {'date': '2016-01-04', 'temperature': 19.8},\n",
              " {'date': '2016-01-05', 'temperature': 19.6}]"
            ]
          },
          "metadata": {
            "tags": []
          },
          "execution_count": 83
        }
      ]
    },
    {
      "cell_type": "markdown",
      "metadata": {
        "id": "muOPjFKYbkFg",
        "colab_type": "text"
      },
      "source": [
        "A rough plot is made to get an idea of the shape of the data."
      ]
    },
    {
      "cell_type": "code",
      "metadata": {
        "id": "YFPZ3DGj_dZB",
        "colab_type": "code",
        "colab": {}
      },
      "source": [
        "# function get_y() to return the data to be plotted on the y-axis\n",
        "\n",
        "def get_y(l):\n",
        "\n",
        "  d = pd.DataFrame(l)\n",
        "\n",
        "  return(list(d['temperature']))"
      ],
      "execution_count": 0,
      "outputs": []
    },
    {
      "cell_type": "code",
      "metadata": {
        "id": "knHofOg29u8w",
        "colab_type": "code",
        "outputId": "80191eaa-c182-42b6-8f3c-db6c2ccf92ca",
        "colab": {
          "base_uri": "https://localhost:8080/",
          "height": 298
        }
      },
      "source": [
        "# plot the two datasets to view the rough structure of the data\n",
        "\n",
        "fig, (ax1, ax2) = plt.subplots(2, 1)\n",
        "\n",
        "ax1.plot(get_y(final_list[0]))\n",
        "ax1.set_title(station[0])\n",
        "\n",
        "ax2.plot(get_y(final_list[1]))\n",
        "ax2.set_title(station[1])"
      ],
      "execution_count": 0,
      "outputs": [
        {
          "output_type": "execute_result",
          "data": {
            "text/plain": [
              "Text(0.5, 1.0, 'Alipore')"
            ]
          },
          "metadata": {
            "tags": []
          },
          "execution_count": 91
        },
        {
          "output_type": "display_data",
          "data": {
            "image/png": "[encoded data removed]",
            "text/plain": [
              "<Figure size 432x288 with 2 Axes>"
            ]
          },
          "metadata": {
            "tags": []
          }
        }
      ]
    },
    {
      "cell_type": "markdown",
      "metadata": {
        "id": "BKciUrvfb1PS",
        "colab_type": "text"
      },
      "source": [
        "As expected, the plot gradually rises and then drops downwards as the temperature gradually increases from the winter month of January to the summer months of May-June, decreasing again as we move towards December.\n",
        "\n",
        "The plot also shows a cyclical pattern over the years, repeating the trend with a few variations."
      ]
    },
    {
      "cell_type": "code",
      "metadata": {
        "id": "iRma-1V77B8j",
        "colab_type": "code",
        "colab": {}
      },
      "source": [
        "#save the data\n",
        "\n",
        "with open('Temp_data.json', 'w') as f:\n",
        "  json.dump(final_list, f)"
      ],
      "execution_count": 0,
      "outputs": []
    }
  ]
}